{
 "cells": [
  {
   "cell_type": "markdown",
   "id": "7a0bb65a",
   "metadata": {},
   "source": [
    "Descargar el excel de la pagina de CND"
   ]
  },
  {
   "cell_type": "code",
   "execution_count": 6,
   "id": "05e8dd8f",
   "metadata": {},
   "outputs": [
    {
     "name": "stderr",
     "output_type": "stream",
     "text": [
      "C:\\Users\\alexj\\AppData\\Local\\Temp/ipykernel_13232/2799344655.py:3: DeprecationWarning: executable_path has been deprecated, please pass in a Service object\n",
      "  ChromeDriver = webdriver.Chrome('webdriver//chromedriver.exe')\n"
     ]
    }
   ],
   "source": [
    "from selenium import webdriver\n",
    "import time\n",
    "ChromeDriver = webdriver.Chrome('webdriver//chromedriver.exe')\n",
    "#Abrir la pagina web\n",
    "ChromeDriver.get('https://www.cnd.com.pa/')\n",
    "ChromeDriver.find_element(\"xpath\" , value ='//*[@id=\"main-cta\"]/div/div/div/div[3]/div/a').click()\n",
    "ChromeDriver.find_element(\"xpath\" , value = '//*[@id=\"page-content\"]/div/div[2]/div[2]/div[2]/ul/li[1]/a').click()\n",
    "time.sleep(3)\n",
    "ChromeDriver.find_element(\"xpath\" , value = '//*[@id=\"listado_informes\"]/table/tbody/tr/td[text()=\"Posdespacho Diario\"][1]/child::a[1]').click()\n",
    "time.sleep(2)\n"
   ]
  },
  {
   "cell_type": "markdown",
   "id": "cdb0f496",
   "metadata": {},
   "source": [
    "Mover el archivo zip de la carpeta de descargas a una carpeta de preferencia"
   ]
  },
  {
   "cell_type": "code",
   "execution_count": 7,
   "id": "35ae2063",
   "metadata": {},
   "outputs": [
    {
     "name": "stdout",
     "output_type": "stream",
     "text": [
      "C:\\Users\\alexj\\Downloads\\\\PS180822: .zip\n"
     ]
    }
   ],
   "source": [
    "import os \n",
    "import shutil\n",
    "#carpeta donde se descargan los archivos\n",
    "DownloadFolder = r\"C:\\Users\\alexj\\Downloads\\\\\"\n",
    "#carpeta del proyecto\n",
    "zipFolder = \"D:\\JupyterNotebook\\Selenium_descargar\\zipsexcel\\\\\"\n",
    "\n",
    "\n",
    "if __name__ == \"__main__\":    \n",
    "    for filename in os.listdir(DownloadFolder):\n",
    "        name, extension = os.path.splitext(DownloadFolder + filename)\n",
    "        \n",
    "        if extension in [\".zip\" , \".rar\"]:\n",
    "            zipFile = (DownloadFolder + filename)\n",
    "            shutil.move(zipFile,zipFolder)\n",
    "            print(name+\": \" + extension)  \n",
    "    pass\n",
    "        "
   ]
  },
  {
   "cell_type": "markdown",
   "id": "33060514",
   "metadata": {},
   "source": [
    "Extraer los archivos zip"
   ]
  },
  {
   "cell_type": "code",
   "execution_count": 8,
   "id": "5cbbceda",
   "metadata": {},
   "outputs": [
    {
     "name": "stdout",
     "output_type": "stream",
     "text": [
      "D:\\JupyterNotebook\\Selenium_descargar\\zipsexcel\\PS180822 Se ha extraido correctamente \n"
     ]
    }
   ],
   "source": [
    "import os \n",
    "import zipfile\n",
    "#carpeta donde estan lso archivos\n",
    "zipFolder = \"D:\\JupyterNotebook\\Selenium_descargar\\zipsexcel\\\\\"\n",
    "\n",
    "if __name__ == \"__main__\":    \n",
    "    for filename in os.listdir(zipFolder):\n",
    "        name, extension = os.path.splitext(zipFolder + filename)\n",
    "        \n",
    "        if extension in [\".zip\" , \".rar\"]:\n",
    "            zip = zipfile.ZipFile(zipFolder+filename,\"r\")\n",
    "            os.mkdir(name)\n",
    "            zip.extractall(pwd=None,path = name)\n",
    "            print(name+\" Se ha extraido correctamente \" )\n",
    "            zip.close()\n",
    "        #os.remove(name+extension)  aun pendiente\n",
    "        "
   ]
  }
 ],
 "metadata": {
  "kernelspec": {
   "display_name": "Python 3.10.6 64-bit (windows store)",
   "language": "python",
   "name": "python3"
  },
  "language_info": {
   "codemirror_mode": {
    "name": "ipython",
    "version": 3
   },
   "file_extension": ".py",
   "mimetype": "text/x-python",
   "name": "python",
   "nbconvert_exporter": "python",
   "pygments_lexer": "ipython3",
   "version": "3.10.6"
  },
  "vscode": {
   "interpreter": {
    "hash": "52dac65d40d2870b29474ba4e34d2ee6c0b0c6fdde2b4c1a3571ff252f7592df"
   }
  }
 },
 "nbformat": 4,
 "nbformat_minor": 5
}
